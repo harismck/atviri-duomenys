{
 "cells": [
  {
   "cell_type": "markdown",
   "metadata": {},
   "source": [
    "## NMPP rezultatų duomenų rinkinys\n",
    "\n",
    "Notebook'as skirtas identifikuoti kokybės problemas, susijusias su NMPP rezultatų duomenų rinkiniu.\n",
    "\n",
    "Rinkinio aprašymas: Pilnai nuasmeninti populiaciniai Nacionalinių mokinių pasiekimų patikrinimų (NMPP) duomenys pateikiami pagal metus, savivaldybę, vietovės tipą, institucijos mokomąją kalbą, lytį, amžių, klasę, pasiekimo tipą, lygį, surinktus taškus\n",
    "\n",
    "Aktualios nuorodos:\n",
    "- [Rinkinys](https://data.gov.lt/datasets/1930)\n",
    "- [Apie NMPP](https://www.nsa.smm.lt/egzaminai-ir-pasiekimu-patikrinimai/nmpp/aktualijos/)\n",
    "\n",
    "Duomenų kokybės bei dokumentacijos problemos su rinkiniu:\n",
    "- Rinkinio aprašyme nepaminėtas kodavimas (`windows-1257`);\n",
    "- 2017-2018 mokslo metai turi sunkiai interpretuojamų reikšmių taškų stulpelyje.\n",
    "- Yra kelios \"atsitiktinės\" eilutės, pvz. tik trys eilutės iš 2021-2022 mokslo metų antros klasės.\n",
    "- Duomenys suagreguoti pagal visus stulpelius, kas apsunkina duomenų naudojimą.\n"
   ]
  },
  {
   "cell_type": "code",
   "execution_count": 2,
   "metadata": {},
   "outputs": [],
   "source": [
    "import pandas as pd\n",
    "import seaborn as sns\n",
    "\n",
    "pd.options.mode.chained_assignment = None\n"
   ]
  },
  {
   "cell_type": "code",
   "execution_count": 3,
   "metadata": {},
   "outputs": [],
   "source": [
    "# https://data.gov.lt/datasets/1930/#info\n",
    "dataset_url = \"https://data.gov.lt/media/filer_public/ca/90/ca907745-4d59-47f2-bf28-c4617f433ecf/3058_mokiniu_pasiekimai_nmpp-1930.csv\"\n",
    "df = pd.read_csv(dataset_url, encoding='windows-1257', sep=\";\", low_memory=False)\n"
   ]
  },
  {
   "cell_type": "code",
   "execution_count": 4,
   "metadata": {},
   "outputs": [
    {
     "data": {
      "text/html": [
       "<div>\n",
       "<style scoped>\n",
       "    .dataframe tbody tr th:only-of-type {\n",
       "        vertical-align: middle;\n",
       "    }\n",
       "\n",
       "    .dataframe tbody tr th {\n",
       "        vertical-align: top;\n",
       "    }\n",
       "\n",
       "    .dataframe thead th {\n",
       "        text-align: right;\n",
       "    }\n",
       "</style>\n",
       "<table border=\"1\" class=\"dataframe\">\n",
       "  <thead>\n",
       "    <tr style=\"text-align: right;\">\n",
       "      <th></th>\n",
       "      <th>PAS Mokslo metai</th>\n",
       "      <th>PAS Institucijos savivaldybės ID</th>\n",
       "      <th>PAS Institucijos savivaldybė</th>\n",
       "      <th>PAS Institucijos vietovės tipo kodas</th>\n",
       "      <th>PAS Institucijos vietovės tipas</th>\n",
       "      <th>PAS Institucijos mokomosios kalbos ID</th>\n",
       "      <th>PAS Institucijos mokomosios kalbos</th>\n",
       "      <th>PAS Lyties ID</th>\n",
       "      <th>PAS Lytis</th>\n",
       "      <th>PAS Amžiaus ID</th>\n",
       "      <th>PAS Amžius</th>\n",
       "      <th>PAS Klasės numerio ID</th>\n",
       "      <th>PAS Klasė</th>\n",
       "      <th>PAS Pasiekimo tipo ID</th>\n",
       "      <th>PAS Pasiekimo tipas</th>\n",
       "      <th>PAS NMPP lygis</th>\n",
       "      <th>PAS NMPP taškai</th>\n",
       "      <th>PAS Mokinių skaičius</th>\n",
       "    </tr>\n",
       "  </thead>\n",
       "  <tbody>\n",
       "    <tr>\n",
       "      <th>61416</th>\n",
       "      <td>2017-2018</td>\n",
       "      <td>413</td>\n",
       "      <td>Ignalinos r. sav.</td>\n",
       "      <td>m.</td>\n",
       "      <td>Miestas</td>\n",
       "      <td>1</td>\n",
       "      <td>lietuvių</td>\n",
       "      <td>1</td>\n",
       "      <td>Berniukai</td>\n",
       "      <td>8</td>\n",
       "      <td>8</td>\n",
       "      <td>2</td>\n",
       "      <td>2</td>\n",
       "      <td>501</td>\n",
       "      <td>Matematika (taškai)</td>\n",
       "      <td>Didelė rizika (grėsmė) tolesniam mokymuisi</td>\n",
       "      <td>369,69</td>\n",
       "      <td>1</td>\n",
       "    </tr>\n",
       "    <tr>\n",
       "      <th>316977</th>\n",
       "      <td>2017-2018</td>\n",
       "      <td>426</td>\n",
       "      <td>Molėtų r. sav.</td>\n",
       "      <td>m.</td>\n",
       "      <td>Miestas</td>\n",
       "      <td>1</td>\n",
       "      <td>lietuvių</td>\n",
       "      <td>2</td>\n",
       "      <td>Mergaitės</td>\n",
       "      <td>12</td>\n",
       "      <td>12</td>\n",
       "      <td>6</td>\n",
       "      <td>6</td>\n",
       "      <td>115</td>\n",
       "      <td>Skaitymas (analizavimas)</td>\n",
       "      <td>Patenkinamas</td>\n",
       "      <td>272,6</td>\n",
       "      <td>1</td>\n",
       "    </tr>\n",
       "    <tr>\n",
       "      <th>52505</th>\n",
       "      <td>2017-2018</td>\n",
       "      <td>3</td>\n",
       "      <td>Druskininkų sav.</td>\n",
       "      <td>m.</td>\n",
       "      <td>Miestas</td>\n",
       "      <td>1</td>\n",
       "      <td>lietuvių</td>\n",
       "      <td>1</td>\n",
       "      <td>Berniukai</td>\n",
       "      <td>10</td>\n",
       "      <td>10</td>\n",
       "      <td>4</td>\n",
       "      <td>4</td>\n",
       "      <td>507</td>\n",
       "      <td>Skaitymas (taškai)</td>\n",
       "      <td>Patenkinamas</td>\n",
       "      <td>425,043</td>\n",
       "      <td>1</td>\n",
       "    </tr>\n",
       "    <tr>\n",
       "      <th>618624</th>\n",
       "      <td>2017-2018</td>\n",
       "      <td>163</td>\n",
       "      <td>Vilkaviškio r. sav.</td>\n",
       "      <td>m.</td>\n",
       "      <td>Miestas</td>\n",
       "      <td>1</td>\n",
       "      <td>lietuvių</td>\n",
       "      <td>2</td>\n",
       "      <td>Mergaitės</td>\n",
       "      <td>11</td>\n",
       "      <td>11</td>\n",
       "      <td>6</td>\n",
       "      <td>6</td>\n",
       "      <td>510</td>\n",
       "      <td>Matematika (taškai)</td>\n",
       "      <td>Pagrindinis</td>\n",
       "      <td>491,416</td>\n",
       "      <td>1</td>\n",
       "    </tr>\n",
       "    <tr>\n",
       "      <th>544096</th>\n",
       "      <td>2017-2018</td>\n",
       "      <td>526</td>\n",
       "      <td>Švenčionių r. sav.</td>\n",
       "      <td>m.</td>\n",
       "      <td>Miestas</td>\n",
       "      <td>12</td>\n",
       "      <td>rusų ir lenkų</td>\n",
       "      <td>1</td>\n",
       "      <td>Berniukai</td>\n",
       "      <td>10</td>\n",
       "      <td>10</td>\n",
       "      <td>4</td>\n",
       "      <td>4</td>\n",
       "      <td>96</td>\n",
       "      <td>Pasaulio pažinimas: žinios ir supratimas</td>\n",
       "      <td>Pagrindinis</td>\n",
       "      <td>525,517</td>\n",
       "      <td>1</td>\n",
       "    </tr>\n",
       "  </tbody>\n",
       "</table>\n",
       "</div>"
      ],
      "text/plain": [
       "       PAS Mokslo metai  PAS Institucijos savivaldybės ID  \\\n",
       "61416         2017-2018                               413   \n",
       "316977        2017-2018                               426   \n",
       "52505         2017-2018                                 3   \n",
       "618624        2017-2018                               163   \n",
       "544096        2017-2018                               526   \n",
       "\n",
       "       PAS Institucijos savivaldybė PAS Institucijos vietovės tipo kodas  \\\n",
       "61416             Ignalinos r. sav.                                   m.   \n",
       "316977               Molėtų r. sav.                                   m.   \n",
       "52505              Druskininkų sav.                                   m.   \n",
       "618624          Vilkaviškio r. sav.                                   m.   \n",
       "544096           Švenčionių r. sav.                                   m.   \n",
       "\n",
       "       PAS Institucijos vietovės tipas  PAS Institucijos mokomosios kalbos ID  \\\n",
       "61416                          Miestas                                      1   \n",
       "316977                         Miestas                                      1   \n",
       "52505                          Miestas                                      1   \n",
       "618624                         Miestas                                      1   \n",
       "544096                         Miestas                                     12   \n",
       "\n",
       "       PAS Institucijos mokomosios kalbos  PAS Lyties ID  PAS Lytis  \\\n",
       "61416                            lietuvių              1  Berniukai   \n",
       "316977                           lietuvių              2  Mergaitės   \n",
       "52505                            lietuvių              1  Berniukai   \n",
       "618624                           lietuvių              2  Mergaitės   \n",
       "544096                      rusų ir lenkų              1  Berniukai   \n",
       "\n",
       "        PAS Amžiaus ID  PAS Amžius  PAS Klasės numerio ID  PAS Klasė  \\\n",
       "61416                8           8                      2          2   \n",
       "316977              12          12                      6          6   \n",
       "52505               10          10                      4          4   \n",
       "618624              11          11                      6          6   \n",
       "544096              10          10                      4          4   \n",
       "\n",
       "        PAS Pasiekimo tipo ID                       PAS Pasiekimo tipas  \\\n",
       "61416                     501                       Matematika (taškai)   \n",
       "316977                    115                  Skaitymas (analizavimas)   \n",
       "52505                     507                        Skaitymas (taškai)   \n",
       "618624                    510                       Matematika (taškai)   \n",
       "544096                     96  Pasaulio pažinimas: žinios ir supratimas   \n",
       "\n",
       "                                    PAS NMPP lygis PAS NMPP taškai  \\\n",
       "61416   Didelė rizika (grėsmė) tolesniam mokymuisi          369,69   \n",
       "316977                                Patenkinamas           272,6   \n",
       "52505                                 Patenkinamas         425,043   \n",
       "618624                                 Pagrindinis         491,416   \n",
       "544096                                 Pagrindinis         525,517   \n",
       "\n",
       "        PAS Mokinių skaičius  \n",
       "61416                      1  \n",
       "316977                     1  \n",
       "52505                      1  \n",
       "618624                     1  \n",
       "544096                     1  "
      ]
     },
     "execution_count": 4,
     "metadata": {},
     "output_type": "execute_result"
    }
   ],
   "source": [
    "df.sample(5)"
   ]
  },
  {
   "cell_type": "code",
   "execution_count": 5,
   "metadata": {},
   "outputs": [],
   "source": [
    "column_mapping = {\n",
    "    'PAS Mokslo metai': 'mokslo_metai',\n",
    "    'PAS Institucijos savivaldybės ID': 'savivaldybes_id',\n",
    "    'PAS Institucijos savivaldybė': 'savivaldybe',\n",
    "    'PAS Institucijos vietovės tipo kodas': 'vietoves_tipo_kodas',\n",
    "    'PAS Institucijos vietovės tipas': 'vietoves_tipas',\n",
    "    'PAS Institucijos mokomosios kalbos ID': 'mokomosios_kalbos_id',\n",
    "    'PAS Institucijos mokomosios kalbos': 'mokomosios_kalbos',\n",
    "    'PAS Lyties ID': 'lyties_id',\n",
    "    'PAS Lytis': 'lytis',\n",
    "    'PAS Amžiaus ID': 'amziaus_id',\n",
    "    'PAS Amžius': 'amzius',\n",
    "    'PAS Klasės numerio ID': 'klases_numerio_id',\n",
    "    'PAS Klasė': 'klase',\n",
    "    'PAS Pasiekimo tipo ID': 'pasiekimo_tipo_id',\n",
    "    'PAS Pasiekimo tipas': 'pasiekimo_tipas',\n",
    "    'PAS NMPP lygis': 'lygis',\n",
    "    'PAS NMPP taškai': 'taskai',\n",
    "    'PAS Mokinių skaičius': 'mokiniu_skaicius'\n",
    "}"
   ]
  },
  {
   "cell_type": "code",
   "execution_count": 6,
   "metadata": {},
   "outputs": [],
   "source": [
    "df = df.rename(columns=column_mapping)"
   ]
  },
  {
   "cell_type": "code",
   "execution_count": 7,
   "metadata": {},
   "outputs": [],
   "source": [
    "df[\"patikrinimo_metai\"] = df[\"mokslo_metai\"].str.split(\"-\").str[1]"
   ]
  },
  {
   "cell_type": "markdown",
   "metadata": {},
   "source": [
    "### 2017-2018 mokslo metai"
   ]
  },
  {
   "cell_type": "code",
   "execution_count": 8,
   "metadata": {},
   "outputs": [
    {
     "data": {
      "text/plain": [
       "mokslo_metai\n",
       "2017-2018    763281\n",
       "2018-2019     63084\n",
       "2021-2022     56353\n",
       "2022-2023     27971\n",
       "2020-2021     24430\n",
       "Name: count, dtype: int64"
      ]
     },
     "execution_count": 8,
     "metadata": {},
     "output_type": "execute_result"
    }
   ],
   "source": [
    "df.value_counts(\"mokslo_metai\")"
   ]
  },
  {
   "cell_type": "code",
   "execution_count": 9,
   "metadata": {},
   "outputs": [
    {
     "data": {
      "text/plain": [
       "mokslo_metai\n",
       "2017-2018    751219\n",
       "Name: count, dtype: int64"
      ]
     },
     "execution_count": 9,
     "metadata": {},
     "output_type": "execute_result"
    }
   ],
   "source": [
    "df[df[\"taskai\"].str.contains(\",\", na=False)].value_counts(\"mokslo_metai\")\n"
   ]
  },
  {
   "cell_type": "code",
   "execution_count": 10,
   "metadata": {},
   "outputs": [],
   "source": [
    "df = df[df[\"mokslo_metai\"] != \"2017-2018\"]\n"
   ]
  },
  {
   "cell_type": "code",
   "execution_count": 11,
   "metadata": {},
   "outputs": [],
   "source": [
    "df[\"taskai\"] = df[\"taskai\"].astype(int)"
   ]
  },
  {
   "cell_type": "markdown",
   "metadata": {},
   "source": [
    "### Labai retos reikšmės"
   ]
  },
  {
   "cell_type": "code",
   "execution_count": 12,
   "metadata": {},
   "outputs": [
    {
     "data": {
      "text/plain": [
       "patikrinimo_metai  klase\n",
       "2019               2        19928\n",
       "                   4        24626\n",
       "                   6        18530\n",
       "2021               4        11257\n",
       "                   8        13173\n",
       "2022               2            3\n",
       "                   4        18063\n",
       "                   6        11811\n",
       "                   8        26476\n",
       "2023               4        13920\n",
       "                   6            1\n",
       "                   8        14050\n",
       "Name: count, dtype: int64"
      ]
     },
     "execution_count": 12,
     "metadata": {},
     "output_type": "execute_result"
    }
   ],
   "source": [
    "df.value_counts([\"patikrinimo_metai\", \"klase\"], sort=False)\n"
   ]
  },
  {
   "cell_type": "code",
   "execution_count": 13,
   "metadata": {},
   "outputs": [],
   "source": [
    "df = df[~(((df[\"patikrinimo_metai\"] == \"2022\") & (df[\"klase\"] == 2)) | (\n",
    "    (df[\"patikrinimo_metai\"] == \"2023\") & (df[\"klase\"] == 6)\n",
    "))]\n"
   ]
  },
  {
   "cell_type": "markdown",
   "metadata": {},
   "source": [
    "### Darom grafikėlį"
   ]
  },
  {
   "cell_type": "code",
   "execution_count": 14,
   "metadata": {},
   "outputs": [
    {
     "data": {
      "text/plain": [
       "0.48443846968585963"
      ]
     },
     "execution_count": 14,
     "metadata": {},
     "output_type": "execute_result"
    }
   ],
   "source": [
    "(df[\"mokiniu_skaicius\"] == 1).mean()"
   ]
  },
  {
   "cell_type": "code",
   "execution_count": 15,
   "metadata": {},
   "outputs": [
    {
     "data": {
      "text/plain": [
       "pasiekimo_tipas\n",
       "Matematika (taškai)                              53528\n",
       "Skaitymas (taškai)                               43623\n",
       "Matematika                                       14137\n",
       "Pasaulio pažinimas (taškai)                      12659\n",
       "Rašymas (taškai)                                 10378\n",
       "Skaitymas                                         7103\n",
       "Gamtos mokslai (taškai)                           6938\n",
       "Socialiniai mokslai (taškai)                      6917\n",
       "Lietuvių kalba ir literatūra. Skaitymas           5826\n",
       "Rašymas (1 dalis - teksto kūrimas, taškai)        5005\n",
       "Rašymas (2 dalis - kalbos supratimas, taškai)     4816\n",
       "Gimtoji kalba (rusų).Skaitymas                     455\n",
       "Gimtoji kalba (lenkų). Skaitymas                   433\n",
       "Gimtoji kalba (baltarusių). Skaitymas               16\n",
       "Name: count, dtype: int64"
      ]
     },
     "execution_count": 15,
     "metadata": {},
     "output_type": "execute_result"
    }
   ],
   "source": [
    "df[\"pasiekimo_tipas\"].value_counts()"
   ]
  },
  {
   "cell_type": "code",
   "execution_count": null,
   "metadata": {},
   "outputs": [],
   "source": [
    "df_mat = df[\n",
    "    df[\"pasiekimo_tipas\"].str.contains(\"Matematika\")\n",
    "    & df[\"klase\"].isin([4, 8])\n",
    "    & df[\"patikrinimo_metai\"].isin([\"2021\", \"2022\", \"2023\"])\n",
    "]"
   ]
  },
  {
   "cell_type": "code",
   "execution_count": 17,
   "metadata": {},
   "outputs": [],
   "source": [
    "# Labai nepatogu!!!\n",
    "df_mat[\"mokiniai_taskai\"] = df_mat[\"taskai\"] * df_mat[\"mokiniu_skaicius\"]\n",
    "df_mat_agg = df_mat.groupby([\"patikrinimo_metai\", \"klase\"]).agg(\n",
    "    {\"mokiniu_skaicius\": \"sum\", \"mokiniai_taskai\": \"sum\"}\n",
    ").reset_index()"
   ]
  },
  {
   "cell_type": "code",
   "execution_count": 18,
   "metadata": {},
   "outputs": [],
   "source": [
    "df_mat_agg[\"tasku_vidurkis\"] = df_mat_agg[\"mokiniai_taskai\"] / df_mat_agg[\"mokiniu_skaicius\"]"
   ]
  },
  {
   "cell_type": "code",
   "execution_count": 229,
   "metadata": {},
   "outputs": [
    {
     "data": {
      "text/html": [
       "<div>\n",
       "<style scoped>\n",
       "    .dataframe tbody tr th:only-of-type {\n",
       "        vertical-align: middle;\n",
       "    }\n",
       "\n",
       "    .dataframe tbody tr th {\n",
       "        vertical-align: top;\n",
       "    }\n",
       "\n",
       "    .dataframe thead th {\n",
       "        text-align: right;\n",
       "    }\n",
       "</style>\n",
       "<table border=\"1\" class=\"dataframe\">\n",
       "  <thead>\n",
       "    <tr style=\"text-align: right;\">\n",
       "      <th></th>\n",
       "      <th>patikrinimo_metai</th>\n",
       "      <th>klase</th>\n",
       "      <th>mokiniu_skaicius</th>\n",
       "      <th>mokiniai_taskai</th>\n",
       "      <th>tasku_vidurkis</th>\n",
       "    </tr>\n",
       "  </thead>\n",
       "  <tbody>\n",
       "    <tr>\n",
       "      <th>0</th>\n",
       "      <td>2021</td>\n",
       "      <td>4</td>\n",
       "      <td>24195</td>\n",
       "      <td>652316</td>\n",
       "      <td>26.960777</td>\n",
       "    </tr>\n",
       "    <tr>\n",
       "      <th>1</th>\n",
       "      <td>2021</td>\n",
       "      <td>8</td>\n",
       "      <td>21549</td>\n",
       "      <td>636805</td>\n",
       "      <td>29.551487</td>\n",
       "    </tr>\n",
       "    <tr>\n",
       "      <th>2</th>\n",
       "      <td>2022</td>\n",
       "      <td>4</td>\n",
       "      <td>24716</td>\n",
       "      <td>572451</td>\n",
       "      <td>23.161151</td>\n",
       "    </tr>\n",
       "    <tr>\n",
       "      <th>3</th>\n",
       "      <td>2022</td>\n",
       "      <td>8</td>\n",
       "      <td>23943</td>\n",
       "      <td>458792</td>\n",
       "      <td>19.161843</td>\n",
       "    </tr>\n",
       "    <tr>\n",
       "      <th>4</th>\n",
       "      <td>2023</td>\n",
       "      <td>4</td>\n",
       "      <td>26118</td>\n",
       "      <td>581828</td>\n",
       "      <td>22.276897</td>\n",
       "    </tr>\n",
       "    <tr>\n",
       "      <th>5</th>\n",
       "      <td>2023</td>\n",
       "      <td>8</td>\n",
       "      <td>25970</td>\n",
       "      <td>569716</td>\n",
       "      <td>21.937466</td>\n",
       "    </tr>\n",
       "  </tbody>\n",
       "</table>\n",
       "</div>"
      ],
      "text/plain": [
       "  patikrinimo_metai  klase  mokiniu_skaicius  mokiniai_taskai  tasku_vidurkis\n",
       "0              2021      4             24195           652316       26.960777\n",
       "1              2021      8             21549           636805       29.551487\n",
       "2              2022      4             24716           572451       23.161151\n",
       "3              2022      8             23943           458792       19.161843\n",
       "4              2023      4             26118           581828       22.276897\n",
       "5              2023      8             25970           569716       21.937466"
      ]
     },
     "execution_count": 229,
     "metadata": {},
     "output_type": "execute_result"
    }
   ],
   "source": [
    "df_mat_agg"
   ]
  },
  {
   "cell_type": "code",
   "execution_count": null,
   "metadata": {},
   "outputs": [
    {
     "data": {
      "text/plain": [
       "(0.0, 35.0)"
      ]
     },
     "execution_count": 230,
     "metadata": {},
     "output_type": "execute_result"
    },
    {
     "data": {
      "image/png": "[encoded data removed]",
      "text/plain": [
       "<Figure size 640x480 with 1 Axes>"
      ]
     },
     "metadata": {},
     "output_type": "display_data"
    }
   ],
   "source": [
    "ax = sns.lineplot(data=df_mat_agg, x=\"patikrinimo_metai\", y=\"tasku_vidurkis\", hue=\"klase\")\n",
    "ax.set_ylim(0, 35)\n",
    "# Grafikas iliustracinis (pavyzdžiui, neaišku koks buvo didžiausias galimas taškų skaičius kiekvienais metais)\n"
   ]
  },
  {
   "cell_type": "code",
   "execution_count": null,
   "metadata": {},
   "outputs": [],
   "source": []
  }
 ],
 "metadata": {
  "kernelspec": {
   "display_name": "Python 3",
   "language": "python",
   "name": "python3"
  },
  "language_info": {
   "codemirror_mode": {
    "name": "ipython",
    "version": 3
   },
   "file_extension": ".py",
   "mimetype": "text/x-python",
   "name": "python",
   "nbconvert_exporter": "python",
   "pygments_lexer": "ipython3",
   "version": "3.11.8"
  }
 },
 "nbformat": 4,
 "nbformat_minor": 2
}
