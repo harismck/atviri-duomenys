{
 "cells": [
  {
   "cell_type": "markdown",
   "metadata": {},
   "source": [
    "# \"Tvarkau miestą\" report data\n",
    "\n",
    "This notebook performs some basic data cleaning of the \"Tvarkau miestą\" programme reports data. The dataset contains a lot of duplicate rows, and even after removing duplicates along the provided `ID` column, there are still multiple duplicated reports (same user, same timestamp, same report description).\n",
    "\n",
    "Relevant links:\n",
    "* [Dataset](https://opendata.vilnius.lt/dataset/tvarkau-miesta-reports)\n",
    "* [Tvarkau miestą](https://tvarkaumiesta.lt/)\n"
   ]
  },
  {
   "cell_type": "code",
   "execution_count": 1,
   "metadata": {},
   "outputs": [],
   "source": [
    "import pandas as pd\n",
    "pd.set_option('display.max_colwidth', 100)\n"
   ]
  },
  {
   "cell_type": "code",
   "execution_count": 2,
   "metadata": {},
   "outputs": [
    {
     "name": "stdout",
     "output_type": "stream",
     "text": [
      "599582\n",
      "254670\n"
     ]
    }
   ],
   "source": [
    "# setting a browser-like user agent\n",
    "# because otherwise the request gets rejected with 403\n",
    "url = \"https://opendata.vilnius.lt/dataset/21e86787-094b-4665-a5f2-16c9268fc778/resource/5e46c742-4ff7-49e7-8cc1-ab49a2087dd2/download/data.csv\"\n",
    "storage_opts = {\n",
    "    \"User-Agent\": \"Mozilla/5.0 (Macintosh; Intel Mac OS X 10_15_7) AppleWebKit/537.36 (KHTML, like Gecko) Chrome/131.0.0.0 Safari/537.36\"\n",
    "}\n",
    "df = pd.read_csv(url, storage_options=storage_opts)\n",
    "print(df.shape[0])\n",
    "print(df[\"ID\"].nunique())"
   ]
  },
  {
   "cell_type": "code",
   "execution_count": 3,
   "metadata": {},
   "outputs": [
    {
     "data": {
      "text/plain": [
       "(254670, 15)"
      ]
     },
     "execution_count": 3,
     "metadata": {},
     "output_type": "execute_result"
    }
   ],
   "source": [
    "df = df.drop_duplicates()\n",
    "df.shape"
   ]
  },
  {
   "cell_type": "code",
   "execution_count": 4,
   "metadata": {},
   "outputs": [],
   "source": [
    "# temporary id because the one given in the dataset is unreliable (see below)\n",
    "df[\"unique_report_id\"] = df[\"report_registration_date\"].astype(str) + df[\"user_id_hash\"]\n",
    "\n",
    "df[\"report_registration_time\"] = pd.to_datetime(df[\"report_registration_date\"], format=\"mixed\")\n",
    "df[\"report_registration_date\"] = df[\"report_registration_time\"].dt.date\n"
   ]
  },
  {
   "cell_type": "code",
   "execution_count": 5,
   "metadata": {},
   "outputs": [
    {
     "data": {
      "text/plain": [
       "False"
      ]
     },
     "execution_count": 5,
     "metadata": {},
     "output_type": "execute_result"
    }
   ],
   "source": [
    "df[\"ID\"].nunique() == df[\"unique_report_id\"].nunique()"
   ]
  },
  {
   "cell_type": "code",
   "execution_count": 6,
   "metadata": {},
   "outputs": [
    {
     "data": {
      "text/plain": [
       "unique_report_id\n",
       "2024-10-03T12:22:30c87b30b555aecbdadfdf6706b698c9a9458edcfb    6\n",
       "2021-03-15T21:21:434ad2d4317e04f0b64dc39564a64a1796990a271b    6\n",
       "2021-03-20T19:16:314ad2d4317e04f0b64dc39564a64a1796990a271b    5\n",
       "2021-03-20T19:15:194ad2d4317e04f0b64dc39564a64a1796990a271b    5\n",
       "2021-03-20T19:17:464ad2d4317e04f0b64dc39564a64a1796990a271b    5\n",
       "                                                              ..\n",
       "2022-01-01T14:00:4999924107e14d4d9001cda0708e96b40966fbe64a    1\n",
       "2022-01-01T14:03:46424c6c7d74e5622270873fd36bd7e588e864f1f5    1\n",
       "2022-01-01T14:05:13424c6c7d74e5622270873fd36bd7e588e864f1f5    1\n",
       "2022-01-01T14:07:42424c6c7d74e5622270873fd36bd7e588e864f1f5    1\n",
       "2025-01-11T01:38c43f8a6d51bb6b857c3069dd3a668e4dda2c9af2       1\n",
       "Name: count, Length: 254257, dtype: int64"
      ]
     },
     "execution_count": 6,
     "metadata": {},
     "output_type": "execute_result"
    }
   ],
   "source": [
    "df[\"unique_report_id\"].value_counts()"
   ]
  },
  {
   "cell_type": "code",
   "execution_count": 7,
   "metadata": {},
   "outputs": [
    {
     "data": {
      "text/html": [
       "<div>\n",
       "<style scoped>\n",
       "    .dataframe tbody tr th:only-of-type {\n",
       "        vertical-align: middle;\n",
       "    }\n",
       "\n",
       "    .dataframe tbody tr th {\n",
       "        vertical-align: top;\n",
       "    }\n",
       "\n",
       "    .dataframe thead th {\n",
       "        text-align: right;\n",
       "    }\n",
       "</style>\n",
       "<table border=\"1\" class=\"dataframe\">\n",
       "  <thead>\n",
       "    <tr style=\"text-align: right;\">\n",
       "      <th></th>\n",
       "      <th>ID</th>\n",
       "      <th>city_id</th>\n",
       "      <th>city_label</th>\n",
       "      <th>version</th>\n",
       "      <th>report_address</th>\n",
       "      <th>report_description</th>\n",
       "      <th>report_registration_date</th>\n",
       "      <th>report_completion_date</th>\n",
       "      <th>report_answer</th>\n",
       "      <th>lattitude</th>\n",
       "      <th>longitude</th>\n",
       "      <th>report_type</th>\n",
       "      <th>status</th>\n",
       "      <th>division_name</th>\n",
       "      <th>user_id_hash</th>\n",
       "      <th>unique_report_id</th>\n",
       "      <th>report_registration_time</th>\n",
       "    </tr>\n",
       "  </thead>\n",
       "  <tbody>\n",
       "    <tr>\n",
       "      <th>562136</th>\n",
       "      <td>390801</td>\n",
       "      <td>1</td>\n",
       "      <td>Vilnius,Grigiškės</td>\n",
       "      <td>Android</td>\n",
       "      <td>Sutemų gatvė, Vilnius, Vilniaus m. sav., Lietuva</td>\n",
       "      <td>Laba diena, \\nLazdynėlių vakarinės dalies gyventojai, gyvenantys Pažagiškių, Vakaro, Lūkesčių ir...</td>\n",
       "      <td>2024-10-03</td>\n",
       "      <td>NaN</td>\n",
       "      <td>NaN</td>\n",
       "      <td>54.664707</td>\n",
       "      <td>25.188335</td>\n",
       "      <td>Gatvių apšvietimas</td>\n",
       "      <td>Registruota</td>\n",
       "      <td>Infrastruktūros grupė</td>\n",
       "      <td>c87b30b555aecbdadfdf6706b698c9a9458edcfb</td>\n",
       "      <td>2024-10-03T12:22:30c87b30b555aecbdadfdf6706b698c9a9458edcfb</td>\n",
       "      <td>2024-10-03 12:22:30</td>\n",
       "    </tr>\n",
       "    <tr>\n",
       "      <th>562138</th>\n",
       "      <td>390802</td>\n",
       "      <td>1</td>\n",
       "      <td>Vilnius,Grigiškės</td>\n",
       "      <td>Android</td>\n",
       "      <td>Sutemų gatvė, Vilnius, Vilniaus m. sav., Lietuva</td>\n",
       "      <td>Laba diena, \\nLazdynėlių vakarinės dalies gyventojai, gyvenantys Pažagiškių, Vakaro, Lūkesčių ir...</td>\n",
       "      <td>2024-10-03</td>\n",
       "      <td>NaN</td>\n",
       "      <td>NaN</td>\n",
       "      <td>54.664707</td>\n",
       "      <td>25.188335</td>\n",
       "      <td>Gatvių apšvietimas</td>\n",
       "      <td>Registruota</td>\n",
       "      <td>Infrastruktūros grupė</td>\n",
       "      <td>c87b30b555aecbdadfdf6706b698c9a9458edcfb</td>\n",
       "      <td>2024-10-03T12:22:30c87b30b555aecbdadfdf6706b698c9a9458edcfb</td>\n",
       "      <td>2024-10-03 12:22:30</td>\n",
       "    </tr>\n",
       "    <tr>\n",
       "      <th>562140</th>\n",
       "      <td>390803</td>\n",
       "      <td>1</td>\n",
       "      <td>Vilnius,Grigiškės</td>\n",
       "      <td>Android</td>\n",
       "      <td>Sutemų gatvė, Vilnius, Vilniaus m. sav., Lietuva</td>\n",
       "      <td>Laba diena, \\nLazdynėlių vakarinės dalies gyventojai, gyvenantys Pažagiškių, Vakaro, Lūkesčių ir...</td>\n",
       "      <td>2024-10-03</td>\n",
       "      <td>NaN</td>\n",
       "      <td>NaN</td>\n",
       "      <td>54.664707</td>\n",
       "      <td>25.188335</td>\n",
       "      <td>Gatvių apšvietimas</td>\n",
       "      <td>Registruota</td>\n",
       "      <td>Infrastruktūros grupė</td>\n",
       "      <td>c87b30b555aecbdadfdf6706b698c9a9458edcfb</td>\n",
       "      <td>2024-10-03T12:22:30c87b30b555aecbdadfdf6706b698c9a9458edcfb</td>\n",
       "      <td>2024-10-03 12:22:30</td>\n",
       "    </tr>\n",
       "    <tr>\n",
       "      <th>562142</th>\n",
       "      <td>390804</td>\n",
       "      <td>1</td>\n",
       "      <td>Vilnius,Grigiškės</td>\n",
       "      <td>Android</td>\n",
       "      <td>Sutemų gatvė, Vilnius, Vilniaus m. sav., Lietuva</td>\n",
       "      <td>Laba diena, \\nLazdynėlių vakarinės dalies gyventojai, gyvenantys Pažagiškių, Vakaro, Lūkesčių ir...</td>\n",
       "      <td>2024-10-03</td>\n",
       "      <td>NaN</td>\n",
       "      <td>NaN</td>\n",
       "      <td>54.664707</td>\n",
       "      <td>25.188335</td>\n",
       "      <td>Gatvių apšvietimas</td>\n",
       "      <td>Registruota</td>\n",
       "      <td>Infrastruktūros grupė</td>\n",
       "      <td>c87b30b555aecbdadfdf6706b698c9a9458edcfb</td>\n",
       "      <td>2024-10-03T12:22:30c87b30b555aecbdadfdf6706b698c9a9458edcfb</td>\n",
       "      <td>2024-10-03 12:22:30</td>\n",
       "    </tr>\n",
       "    <tr>\n",
       "      <th>562144</th>\n",
       "      <td>390805</td>\n",
       "      <td>1</td>\n",
       "      <td>Vilnius,Grigiškės</td>\n",
       "      <td>Android</td>\n",
       "      <td>Sutemų gatvė, Vilnius, Vilniaus m. sav., Lietuva</td>\n",
       "      <td>Laba diena, \\nLazdynėlių vakarinės dalies gyventojai, gyvenantys Pažagiškių, Vakaro, Lūkesčių ir...</td>\n",
       "      <td>2024-10-03</td>\n",
       "      <td>NaN</td>\n",
       "      <td>NaN</td>\n",
       "      <td>54.664707</td>\n",
       "      <td>25.188335</td>\n",
       "      <td>Gatvių apšvietimas</td>\n",
       "      <td>Registruota</td>\n",
       "      <td>Infrastruktūros grupė</td>\n",
       "      <td>c87b30b555aecbdadfdf6706b698c9a9458edcfb</td>\n",
       "      <td>2024-10-03T12:22:30c87b30b555aecbdadfdf6706b698c9a9458edcfb</td>\n",
       "      <td>2024-10-03 12:22:30</td>\n",
       "    </tr>\n",
       "    <tr>\n",
       "      <th>562146</th>\n",
       "      <td>390806</td>\n",
       "      <td>1</td>\n",
       "      <td>Vilnius,Grigiškės</td>\n",
       "      <td>Android</td>\n",
       "      <td>Sutemų gatvė, Vilnius, Vilniaus m. sav., Lietuva</td>\n",
       "      <td>Laba diena, \\nLazdynėlių vakarinės dalies gyventojai, gyvenantys Pažagiškių, Vakaro, Lūkesčių ir...</td>\n",
       "      <td>2024-10-03</td>\n",
       "      <td>NaN</td>\n",
       "      <td>NaN</td>\n",
       "      <td>54.664707</td>\n",
       "      <td>25.188335</td>\n",
       "      <td>Gatvių apšvietimas</td>\n",
       "      <td>Registruota</td>\n",
       "      <td>Infrastruktūros grupė</td>\n",
       "      <td>c87b30b555aecbdadfdf6706b698c9a9458edcfb</td>\n",
       "      <td>2024-10-03T12:22:30c87b30b555aecbdadfdf6706b698c9a9458edcfb</td>\n",
       "      <td>2024-10-03 12:22:30</td>\n",
       "    </tr>\n",
       "  </tbody>\n",
       "</table>\n",
       "</div>"
      ],
      "text/plain": [
       "            ID  city_id         city_label  version  \\\n",
       "562136  390801        1  Vilnius,Grigiškės  Android   \n",
       "562138  390802        1  Vilnius,Grigiškės  Android   \n",
       "562140  390803        1  Vilnius,Grigiškės  Android   \n",
       "562142  390804        1  Vilnius,Grigiškės  Android   \n",
       "562144  390805        1  Vilnius,Grigiškės  Android   \n",
       "562146  390806        1  Vilnius,Grigiškės  Android   \n",
       "\n",
       "                                          report_address  \\\n",
       "562136  Sutemų gatvė, Vilnius, Vilniaus m. sav., Lietuva   \n",
       "562138  Sutemų gatvė, Vilnius, Vilniaus m. sav., Lietuva   \n",
       "562140  Sutemų gatvė, Vilnius, Vilniaus m. sav., Lietuva   \n",
       "562142  Sutemų gatvė, Vilnius, Vilniaus m. sav., Lietuva   \n",
       "562144  Sutemų gatvė, Vilnius, Vilniaus m. sav., Lietuva   \n",
       "562146  Sutemų gatvė, Vilnius, Vilniaus m. sav., Lietuva   \n",
       "\n",
       "                                                                                         report_description  \\\n",
       "562136  Laba diena, \\nLazdynėlių vakarinės dalies gyventojai, gyvenantys Pažagiškių, Vakaro, Lūkesčių ir...   \n",
       "562138  Laba diena, \\nLazdynėlių vakarinės dalies gyventojai, gyvenantys Pažagiškių, Vakaro, Lūkesčių ir...   \n",
       "562140  Laba diena, \\nLazdynėlių vakarinės dalies gyventojai, gyvenantys Pažagiškių, Vakaro, Lūkesčių ir...   \n",
       "562142  Laba diena, \\nLazdynėlių vakarinės dalies gyventojai, gyvenantys Pažagiškių, Vakaro, Lūkesčių ir...   \n",
       "562144  Laba diena, \\nLazdynėlių vakarinės dalies gyventojai, gyvenantys Pažagiškių, Vakaro, Lūkesčių ir...   \n",
       "562146  Laba diena, \\nLazdynėlių vakarinės dalies gyventojai, gyvenantys Pažagiškių, Vakaro, Lūkesčių ir...   \n",
       "\n",
       "       report_registration_date report_completion_date report_answer  \\\n",
       "562136               2024-10-03                    NaN           NaN   \n",
       "562138               2024-10-03                    NaN           NaN   \n",
       "562140               2024-10-03                    NaN           NaN   \n",
       "562142               2024-10-03                    NaN           NaN   \n",
       "562144               2024-10-03                    NaN           NaN   \n",
       "562146               2024-10-03                    NaN           NaN   \n",
       "\n",
       "        lattitude  longitude         report_type       status  \\\n",
       "562136  54.664707  25.188335  Gatvių apšvietimas  Registruota   \n",
       "562138  54.664707  25.188335  Gatvių apšvietimas  Registruota   \n",
       "562140  54.664707  25.188335  Gatvių apšvietimas  Registruota   \n",
       "562142  54.664707  25.188335  Gatvių apšvietimas  Registruota   \n",
       "562144  54.664707  25.188335  Gatvių apšvietimas  Registruota   \n",
       "562146  54.664707  25.188335  Gatvių apšvietimas  Registruota   \n",
       "\n",
       "                division_name                              user_id_hash  \\\n",
       "562136  Infrastruktūros grupė  c87b30b555aecbdadfdf6706b698c9a9458edcfb   \n",
       "562138  Infrastruktūros grupė  c87b30b555aecbdadfdf6706b698c9a9458edcfb   \n",
       "562140  Infrastruktūros grupė  c87b30b555aecbdadfdf6706b698c9a9458edcfb   \n",
       "562142  Infrastruktūros grupė  c87b30b555aecbdadfdf6706b698c9a9458edcfb   \n",
       "562144  Infrastruktūros grupė  c87b30b555aecbdadfdf6706b698c9a9458edcfb   \n",
       "562146  Infrastruktūros grupė  c87b30b555aecbdadfdf6706b698c9a9458edcfb   \n",
       "\n",
       "                                                   unique_report_id  \\\n",
       "562136  2024-10-03T12:22:30c87b30b555aecbdadfdf6706b698c9a9458edcfb   \n",
       "562138  2024-10-03T12:22:30c87b30b555aecbdadfdf6706b698c9a9458edcfb   \n",
       "562140  2024-10-03T12:22:30c87b30b555aecbdadfdf6706b698c9a9458edcfb   \n",
       "562142  2024-10-03T12:22:30c87b30b555aecbdadfdf6706b698c9a9458edcfb   \n",
       "562144  2024-10-03T12:22:30c87b30b555aecbdadfdf6706b698c9a9458edcfb   \n",
       "562146  2024-10-03T12:22:30c87b30b555aecbdadfdf6706b698c9a9458edcfb   \n",
       "\n",
       "       report_registration_time  \n",
       "562136      2024-10-03 12:22:30  \n",
       "562138      2024-10-03 12:22:30  \n",
       "562140      2024-10-03 12:22:30  \n",
       "562142      2024-10-03 12:22:30  \n",
       "562144      2024-10-03 12:22:30  \n",
       "562146      2024-10-03 12:22:30  "
      ]
     },
     "execution_count": 7,
     "metadata": {},
     "output_type": "execute_result"
    }
   ],
   "source": [
    "df[df[\"unique_report_id\"] == \"2024-10-03T12:22:30c87b30b555aecbdadfdf6706b698c9a9458edcfb\"]"
   ]
  },
  {
   "cell_type": "code",
   "execution_count": 8,
   "metadata": {},
   "outputs": [
    {
     "data": {
      "text/plain": [
       "254257"
      ]
     },
     "execution_count": 8,
     "metadata": {},
     "output_type": "execute_result"
    }
   ],
   "source": [
    "# .drop_duplicates() did not remove all duplicates\n",
    "# we could deduplicate by the provided ID column, but it seems unreliable\n",
    "# there are several hundred cases where the same user created multiple reports on the same second\n",
    "# and those reports get assigned unique report IDs \n",
    "# even though they have identical descriptions as the example above indicates\n",
    "df = df.sort_values(\"ID\").groupby(\"unique_report_id\").first().reset_index().drop(columns=\"unique_report_id\")\n",
    "df.shape[0]"
   ]
  },
  {
   "cell_type": "code",
   "execution_count": null,
   "metadata": {},
   "outputs": [],
   "source": []
  }
 ],
 "metadata": {
  "kernelspec": {
   "display_name": "Python 3",
   "language": "python",
   "name": "python3"
  },
  "language_info": {
   "codemirror_mode": {
    "name": "ipython",
    "version": 3
   },
   "file_extension": ".py",
   "mimetype": "text/x-python",
   "name": "python",
   "nbconvert_exporter": "python",
   "pygments_lexer": "ipython3",
   "version": "3.11.8"
  }
 },
 "nbformat": 4,
 "nbformat_minor": 2
}
