{
 "cells": [
  {
   "cell_type": "markdown",
   "metadata": {},
   "source": [
    "# Teisės aktų registro duomenų problemos\n",
    "\n",
    "Pagrindinė problema su teisės aktų registro duomenimis - Seimo įstatymams, įregistruotiems iki 2014 metų, trūksta įstatymo įsigaliojimo, nustojimo galioti bei kitų datų. Nuėjus į dokumento puslapį pačiame e-tar, visos reikalingos datos matosi.\n"
   ]
  },
  {
   "cell_type": "code",
   "execution_count": 1,
   "metadata": {},
   "outputs": [],
   "source": [
    "import pandas as pd\n",
    "import seaborn as sns\n",
    "from IPython.display import HTML\n"
   ]
  },
  {
   "cell_type": "code",
   "execution_count": 2,
   "metadata": {},
   "outputs": [],
   "source": [
    "dataset_url = \"https://get.data.gov.lt/datasets/gov/lrsk/teises_aktai/Dokumentas/:format/csv\"\n"
   ]
  },
  {
   "cell_type": "code",
   "execution_count": 3,
   "metadata": {},
   "outputs": [],
   "source": [
    "df = pd.read_csv(dataset_url, low_memory=False)\n"
   ]
  },
  {
   "cell_type": "code",
   "execution_count": 4,
   "metadata": {},
   "outputs": [],
   "source": [
    "df_seimas = df[\n",
    "    (df[\"priemusi_inst\"] == \"Lietuvos Respublikos Seimas\")\n",
    "    & (df[\"rusis\"] == \"Įstatymas\")\n",
    "    & (df[\"registracija\"] >= \"1990-01-01\")\n",
    "]"
   ]
  },
  {
   "cell_type": "code",
   "execution_count": 5,
   "metadata": {},
   "outputs": [],
   "source": [
    "columns = [\n",
    "    \"nuoroda\",\n",
    "    \"galioj_busena\",\n",
    "    \"tar_kodas\",\n",
    "    \"registracija\",\n",
    "    \"priimtas\",\n",
    "    \"patvirtinta\",\n",
    "    \"isigalioja\",\n",
    "    \"isigalioja_po_salygu\",\n",
    "    \"negalioja\",\n",
    "    \"negalioja_po_salygu\",\n",
    "]\n",
    "df_seimas = df_seimas[columns]"
   ]
  },
  {
   "cell_type": "code",
   "execution_count": 6,
   "metadata": {},
   "outputs": [],
   "source": [
    "df_seimas[\"nuoroda\"] = df_seimas[\"nuoroda\"].apply(lambda x: f'<a href=\"{x}\" target=\"_blank\">{x}</a>')\n"
   ]
  },
  {
   "cell_type": "code",
   "execution_count": 7,
   "metadata": {},
   "outputs": [
    {
     "data": {
      "text/html": [
       "<table border=\"1\" class=\"dataframe\">\n",
       "  <thead>\n",
       "    <tr style=\"text-align: right;\">\n",
       "      <th>nuoroda</th>\n",
       "      <th>galioj_busena</th>\n",
       "      <th>tar_kodas</th>\n",
       "      <th>registracija</th>\n",
       "      <th>priimtas</th>\n",
       "      <th>patvirtinta</th>\n",
       "      <th>isigalioja</th>\n",
       "      <th>isigalioja_po_salygu</th>\n",
       "      <th>negalioja</th>\n",
       "      <th>negalioja_po_salygu</th>\n",
       "    </tr>\n",
       "  </thead>\n",
       "  <tbody>\n",
       "    <tr>\n",
       "      <td><a href=\"https://e-tar.lt/portal/lt/legalAct/TAR.41A6FD9F85C3\" target=\"_blank\">https://e-tar.lt/portal/lt/legalAct/TAR.41A6FD9F85C3</a></td>\n",
       "      <td>galioja</td>\n",
       "      <td>1021010ISTA00IX-759</td>\n",
       "      <td>2002-03-07</td>\n",
       "      <td>NaN</td>\n",
       "      <td>NaN</td>\n",
       "      <td>NaN</td>\n",
       "      <td>NaN</td>\n",
       "      <td>NaN</td>\n",
       "      <td>NaN</td>\n",
       "    </tr>\n",
       "    <tr>\n",
       "      <td><a href=\"https://e-tar.lt/portal/lt/legalAct/TAR.25726E56F3ED\" target=\"_blank\">https://e-tar.lt/portal/lt/legalAct/TAR.25726E56F3ED</a></td>\n",
       "      <td>galioja</td>\n",
       "      <td>1111010ISTA0XI-1441</td>\n",
       "      <td>2011-06-09</td>\n",
       "      <td>NaN</td>\n",
       "      <td>NaN</td>\n",
       "      <td>NaN</td>\n",
       "      <td>NaN</td>\n",
       "      <td>NaN</td>\n",
       "      <td>NaN</td>\n",
       "    </tr>\n",
       "    <tr>\n",
       "      <td><a href=\"https://e-tar.lt/portal/lt/legalAct/TAR.5E093B9CF578\" target=\"_blank\">https://e-tar.lt/portal/lt/legalAct/TAR.5E093B9CF578</a></td>\n",
       "      <td>negalioja</td>\n",
       "      <td>0931010ISTA000I-296</td>\n",
       "      <td>1993-10-28</td>\n",
       "      <td>NaN</td>\n",
       "      <td>NaN</td>\n",
       "      <td>NaN</td>\n",
       "      <td>NaN</td>\n",
       "      <td>NaN</td>\n",
       "      <td>NaN</td>\n",
       "    </tr>\n",
       "    <tr>\n",
       "      <td><a href=\"https://e-tar.lt/portal/lt/legalAct/TAR.7919F56F4311\" target=\"_blank\">https://e-tar.lt/portal/lt/legalAct/TAR.7919F56F4311</a></td>\n",
       "      <td>galioja</td>\n",
       "      <td>1001010ISTAIII-2027</td>\n",
       "      <td>2000-10-12</td>\n",
       "      <td>NaN</td>\n",
       "      <td>NaN</td>\n",
       "      <td>NaN</td>\n",
       "      <td>NaN</td>\n",
       "      <td>NaN</td>\n",
       "      <td>NaN</td>\n",
       "    </tr>\n",
       "    <tr>\n",
       "      <td><a href=\"https://e-tar.lt/portal/lt/legalAct/TAR.4688980C7C83\" target=\"_blank\">https://e-tar.lt/portal/lt/legalAct/TAR.4688980C7C83</a></td>\n",
       "      <td>galioja</td>\n",
       "      <td>1001010ISTAIII-2036</td>\n",
       "      <td>2000-10-12</td>\n",
       "      <td>NaN</td>\n",
       "      <td>NaN</td>\n",
       "      <td>NaN</td>\n",
       "      <td>NaN</td>\n",
       "      <td>NaN</td>\n",
       "      <td>NaN</td>\n",
       "    </tr>\n",
       "    <tr>\n",
       "      <td><a href=\"https://e-tar.lt/portal/lt/legalAct/TAR.5F674121F270\" target=\"_blank\">https://e-tar.lt/portal/lt/legalAct/TAR.5F674121F270</a></td>\n",
       "      <td>galioja</td>\n",
       "      <td>1041010ISTA0IX-2458</td>\n",
       "      <td>2004-09-28</td>\n",
       "      <td>NaN</td>\n",
       "      <td>NaN</td>\n",
       "      <td>NaN</td>\n",
       "      <td>NaN</td>\n",
       "      <td>NaN</td>\n",
       "      <td>NaN</td>\n",
       "    </tr>\n",
       "    <tr>\n",
       "      <td><a href=\"https://e-tar.lt/portal/lt/legalAct/TAR.41490157DAB9\" target=\"_blank\">https://e-tar.lt/portal/lt/legalAct/TAR.41490157DAB9</a></td>\n",
       "      <td>galioja</td>\n",
       "      <td>0961010ISTA00I-1557</td>\n",
       "      <td>1996-09-25</td>\n",
       "      <td>NaN</td>\n",
       "      <td>NaN</td>\n",
       "      <td>NaN</td>\n",
       "      <td>NaN</td>\n",
       "      <td>NaN</td>\n",
       "      <td>NaN</td>\n",
       "    </tr>\n",
       "    <tr>\n",
       "      <td><a href=\"https://e-tar.lt/portal/lt/legalAct/TAR.360031558A9A\" target=\"_blank\">https://e-tar.lt/portal/lt/legalAct/TAR.360031558A9A</a></td>\n",
       "      <td>galioja</td>\n",
       "      <td>1061010ISTA000X-605</td>\n",
       "      <td>2006-05-11</td>\n",
       "      <td>NaN</td>\n",
       "      <td>NaN</td>\n",
       "      <td>NaN</td>\n",
       "      <td>NaN</td>\n",
       "      <td>NaN</td>\n",
       "      <td>NaN</td>\n",
       "    </tr>\n",
       "    <tr>\n",
       "      <td><a href=\"https://e-tar.lt/portal/lt/legalAct/TAR.7F4FFC21ADD2\" target=\"_blank\">https://e-tar.lt/portal/lt/legalAct/TAR.7F4FFC21ADD2</a></td>\n",
       "      <td>galioja</td>\n",
       "      <td>1031010ISTA0IX-1716</td>\n",
       "      <td>2003-07-04</td>\n",
       "      <td>NaN</td>\n",
       "      <td>NaN</td>\n",
       "      <td>NaN</td>\n",
       "      <td>NaN</td>\n",
       "      <td>NaN</td>\n",
       "      <td>NaN</td>\n",
       "    </tr>\n",
       "    <tr>\n",
       "      <td><a href=\"https://e-tar.lt/portal/lt/legalAct/TAR.70214821BA57\" target=\"_blank\">https://e-tar.lt/portal/lt/legalAct/TAR.70214821BA57</a></td>\n",
       "      <td>galioja</td>\n",
       "      <td>1061010ISTA000X-797</td>\n",
       "      <td>2006-07-19</td>\n",
       "      <td>NaN</td>\n",
       "      <td>NaN</td>\n",
       "      <td>NaN</td>\n",
       "      <td>NaN</td>\n",
       "      <td>NaN</td>\n",
       "      <td>NaN</td>\n",
       "    </tr>\n",
       "  </tbody>\n",
       "</table>"
      ],
      "text/plain": [
       "<IPython.core.display.HTML object>"
      ]
     },
     "metadata": {},
     "output_type": "display_data"
    }
   ],
   "source": [
    "df_missing_dates = df_seimas[\n",
    "    df_seimas[\"isigalioja\"].isnull() & df_seimas[\"isigalioja_po_salygu\"].isnull()\n",
    "]\n",
    "display(HTML(df_missing_dates.sample(10).to_html(escape=False, index=False)))"
   ]
  },
  {
   "cell_type": "code",
   "execution_count": 8,
   "metadata": {},
   "outputs": [
    {
     "data": {
      "text/plain": [
       "<Axes: xlabel='registracija', ylabel='count'>"
      ]
     },
     "execution_count": 8,
     "metadata": {},
     "output_type": "execute_result"
    },
    {
     "data": {
      "image/png": "[encoded data removed]",
      "text/plain": [
       "<Figure size 640x480 with 1 Axes>"
      ]
     },
     "metadata": {},
     "output_type": "display_data"
    }
   ],
   "source": [
    "missing_dates_counts = pd.to_datetime(df_missing_dates[\"registracija\"]).dt.year.value_counts().reset_index()\n",
    "sns.lineplot(x=\"registracija\", y=\"count\", data=missing_dates_counts);\n"
   ]
  }
 ],
 "metadata": {
  "kernelspec": {
   "display_name": "Python 3",
   "language": "python",
   "name": "python3"
  },
  "language_info": {
   "codemirror_mode": {
    "name": "ipython",
    "version": 3
   },
   "file_extension": ".py",
   "mimetype": "text/x-python",
   "name": "python",
   "nbconvert_exporter": "python",
   "pygments_lexer": "ipython3",
   "version": "3.12.9"
  }
 },
 "nbformat": 4,
 "nbformat_minor": 2
}
