{
 "cells": [
  {
   "cell_type": "markdown",
   "metadata": {},
   "source": [
    "# Teisės aktų registro duomenų problemos\n",
    "\n",
    "Didelei daliai Seimo įstatymų, įregistruotų iki 2014 metų, trūksta įstatymo įsigaliojimo, nustojimo galioti bei kitų datų. Nuėjus į dokumento puslapį pačiame e-tar, visos reikalingos datos matosi.\n",
    "\n",
    "Taip pat yra 47 įstatymai, turintys nustojimo galioti datą, tačiau neturintys įsigaliojimo datos.\n"
   ]
  },
  {
   "cell_type": "code",
   "execution_count": 16,
   "metadata": {},
   "outputs": [],
   "source": [
    "import pandas as pd\n",
    "from IPython.display import HTML\n",
    "\n",
    "import warnings\n",
    "warnings.filterwarnings(\"ignore\")\n"
   ]
  },
  {
   "cell_type": "code",
   "execution_count": 17,
   "metadata": {},
   "outputs": [],
   "source": [
    "dataset_url = \"https://get.data.gov.lt/datasets/gov/lrsk/teises_aktai/Dokumentas/:format/csv\"\n"
   ]
  },
  {
   "cell_type": "code",
   "execution_count": 18,
   "metadata": {},
   "outputs": [],
   "source": [
    "df = pd.read_csv(dataset_url, low_memory=False)\n"
   ]
  },
  {
   "cell_type": "code",
   "execution_count": 19,
   "metadata": {},
   "outputs": [],
   "source": [
    "df_seimas = df[\n",
    "    (df[\"priemusi_inst\"] == \"Lietuvos Respublikos Seimas\")\n",
    "    & (df[\"rusis\"] == \"Įstatymas\")\n",
    "    & (df[\"registracija\"] >= \"1990-01-01\")\n",
    "]\n",
    "\n",
    "columns = [\n",
    "    \"nuoroda\",\n",
    "    \"galioj_busena\",\n",
    "    \"tar_kodas\",\n",
    "    \"registracija\",\n",
    "    \"priimtas\",\n",
    "    \"patvirtinta\",\n",
    "    \"isigalioja\",\n",
    "    \"isigalioja_po_salygu\",\n",
    "    \"negalioja\",\n",
    "    \"negalioja_po_salygu\",\n",
    "]\n",
    "df_seimas = df_seimas[columns]\n",
    "\n",
    "df_seimas[\"isigalioja2\"] = df_seimas[\"isigalioja\"].combine_first(df_seimas[\"isigalioja_po_salygu\"])\n",
    "df_seimas[\"negalioja2\"] = df_seimas[\"negalioja\"].combine_first(df_seimas[\"negalioja_po_salygu\"])"
   ]
  },
  {
   "cell_type": "code",
   "execution_count": 20,
   "metadata": {},
   "outputs": [],
   "source": [
    "df_seimas[\"nuoroda\"] = df_seimas[\"nuoroda\"].apply(lambda x: f'<a href=\"{x}\" target=\"_blank\">{x}</a>')\n"
   ]
  },
  {
   "cell_type": "code",
   "execution_count": 8,
   "metadata": {},
   "outputs": [
    {
     "data": {
      "text/html": [
       "<table border=\"1\" class=\"dataframe\">\n",
       "  <thead>\n",
       "    <tr style=\"text-align: right;\">\n",
       "      <th>nuoroda</th>\n",
       "      <th>galioj_busena</th>\n",
       "      <th>tar_kodas</th>\n",
       "      <th>registracija</th>\n",
       "      <th>priimtas</th>\n",
       "      <th>patvirtinta</th>\n",
       "      <th>isigalioja</th>\n",
       "      <th>isigalioja_po_salygu</th>\n",
       "      <th>negalioja</th>\n",
       "      <th>negalioja_po_salygu</th>\n",
       "    </tr>\n",
       "  </thead>\n",
       "  <tbody>\n",
       "    <tr>\n",
       "      <td><a href=\"https://e-tar.lt/portal/lt/legalAct/TAR.692381DCD354\" target=\"_blank\">https://e-tar.lt/portal/lt/legalAct/TAR.692381DCD354</a></td>\n",
       "      <td>galioja</td>\n",
       "      <td>1081010ISTA00X-1432</td>\n",
       "      <td>2008-01-18</td>\n",
       "      <td>NaN</td>\n",
       "      <td>NaN</td>\n",
       "      <td>NaN</td>\n",
       "      <td>NaN</td>\n",
       "      <td>NaN</td>\n",
       "      <td>NaN</td>\n",
       "    </tr>\n",
       "    <tr>\n",
       "      <td><a href=\"https://e-tar.lt/portal/lt/legalAct/TAR.5CF75EE3EC82\" target=\"_blank\">https://e-tar.lt/portal/lt/legalAct/TAR.5CF75EE3EC82</a></td>\n",
       "      <td>galioja</td>\n",
       "      <td>1111010ISTA0XI-1778</td>\n",
       "      <td>2011-12-06</td>\n",
       "      <td>NaN</td>\n",
       "      <td>NaN</td>\n",
       "      <td>NaN</td>\n",
       "      <td>NaN</td>\n",
       "      <td>NaN</td>\n",
       "      <td>NaN</td>\n",
       "    </tr>\n",
       "    <tr>\n",
       "      <td><a href=\"https://e-tar.lt/portal/lt/legalAct/TAR.AF5E1EF50041\" target=\"_blank\">https://e-tar.lt/portal/lt/legalAct/TAR.AF5E1EF50041</a></td>\n",
       "      <td>galioja</td>\n",
       "      <td>0971010ISTAVIII-325</td>\n",
       "      <td>1997-06-26</td>\n",
       "      <td>NaN</td>\n",
       "      <td>NaN</td>\n",
       "      <td>NaN</td>\n",
       "      <td>NaN</td>\n",
       "      <td>NaN</td>\n",
       "      <td>NaN</td>\n",
       "    </tr>\n",
       "    <tr>\n",
       "      <td><a href=\"https://e-tar.lt/portal/lt/legalAct/TAR.2F7E02F2E6A3\" target=\"_blank\">https://e-tar.lt/portal/lt/legalAct/TAR.2F7E02F2E6A3</a></td>\n",
       "      <td>galioja</td>\n",
       "      <td>1021010ISTA0IX-1195</td>\n",
       "      <td>2002-11-12</td>\n",
       "      <td>NaN</td>\n",
       "      <td>NaN</td>\n",
       "      <td>NaN</td>\n",
       "      <td>NaN</td>\n",
       "      <td>NaN</td>\n",
       "      <td>NaN</td>\n",
       "    </tr>\n",
       "    <tr>\n",
       "      <td><a href=\"https://e-tar.lt/portal/lt/legalAct/TAR.5F674121F270\" target=\"_blank\">https://e-tar.lt/portal/lt/legalAct/TAR.5F674121F270</a></td>\n",
       "      <td>galioja</td>\n",
       "      <td>1041010ISTA0IX-2458</td>\n",
       "      <td>2004-09-28</td>\n",
       "      <td>NaN</td>\n",
       "      <td>NaN</td>\n",
       "      <td>NaN</td>\n",
       "      <td>NaN</td>\n",
       "      <td>NaN</td>\n",
       "      <td>NaN</td>\n",
       "    </tr>\n",
       "    <tr>\n",
       "      <td><a href=\"https://e-tar.lt/portal/lt/legalAct/TAR.11CDD8ED3B5C\" target=\"_blank\">https://e-tar.lt/portal/lt/legalAct/TAR.11CDD8ED3B5C</a></td>\n",
       "      <td>galioja</td>\n",
       "      <td>1021010ISTA00IX-844</td>\n",
       "      <td>2002-04-16</td>\n",
       "      <td>NaN</td>\n",
       "      <td>NaN</td>\n",
       "      <td>NaN</td>\n",
       "      <td>NaN</td>\n",
       "      <td>NaN</td>\n",
       "      <td>NaN</td>\n",
       "    </tr>\n",
       "    <tr>\n",
       "      <td><a href=\"https://e-tar.lt/portal/lt/legalAct/TAR.2114C9F89F5F\" target=\"_blank\">https://e-tar.lt/portal/lt/legalAct/TAR.2114C9F89F5F</a></td>\n",
       "      <td>galioja</td>\n",
       "      <td>1031010ISTA0IX-1558</td>\n",
       "      <td>2003-05-15</td>\n",
       "      <td>NaN</td>\n",
       "      <td>NaN</td>\n",
       "      <td>NaN</td>\n",
       "      <td>NaN</td>\n",
       "      <td>NaN</td>\n",
       "      <td>NaN</td>\n",
       "    </tr>\n",
       "    <tr>\n",
       "      <td><a href=\"https://e-tar.lt/portal/lt/legalAct/TAR.51335015B53C\" target=\"_blank\">https://e-tar.lt/portal/lt/legalAct/TAR.51335015B53C</a></td>\n",
       "      <td>galioja</td>\n",
       "      <td>1011010ISTA00IX-289</td>\n",
       "      <td>2001-04-19</td>\n",
       "      <td>NaN</td>\n",
       "      <td>NaN</td>\n",
       "      <td>NaN</td>\n",
       "      <td>NaN</td>\n",
       "      <td>NaN</td>\n",
       "      <td>NaN</td>\n",
       "    </tr>\n",
       "    <tr>\n",
       "      <td><a href=\"https://e-tar.lt/portal/lt/legalAct/TAR.C3C6BC6F5433\" target=\"_blank\">https://e-tar.lt/portal/lt/legalAct/TAR.C3C6BC6F5433</a></td>\n",
       "      <td>galioja</td>\n",
       "      <td>1101010ISTA0XI-1032</td>\n",
       "      <td>2010-09-23</td>\n",
       "      <td>NaN</td>\n",
       "      <td>NaN</td>\n",
       "      <td>NaN</td>\n",
       "      <td>NaN</td>\n",
       "      <td>NaN</td>\n",
       "      <td>NaN</td>\n",
       "    </tr>\n",
       "    <tr>\n",
       "      <td><a href=\"https://e-tar.lt/portal/lt/legalAct/TAR.C5CBD04F5C9A\" target=\"_blank\">https://e-tar.lt/portal/lt/legalAct/TAR.C5CBD04F5C9A</a></td>\n",
       "      <td>galioja</td>\n",
       "      <td>1081010ISTA000XI-88</td>\n",
       "      <td>2008-12-19</td>\n",
       "      <td>NaN</td>\n",
       "      <td>NaN</td>\n",
       "      <td>NaN</td>\n",
       "      <td>NaN</td>\n",
       "      <td>NaN</td>\n",
       "      <td>NaN</td>\n",
       "    </tr>\n",
       "  </tbody>\n",
       "</table>"
      ],
      "text/plain": [
       "<IPython.core.display.HTML object>"
      ]
     },
     "metadata": {},
     "output_type": "display_data"
    }
   ],
   "source": [
    "df_missing_dates = df_seimas[df_seimas[\"isigalioja2\"].isnull()]\n",
    "display(HTML(df_missing_dates.sample(10).to_html(escape=False, index=False)))"
   ]
  },
  {
   "cell_type": "code",
   "execution_count": 9,
   "metadata": {},
   "outputs": [],
   "source": [
    "df_seimas[\"turi_isigaliojimo_data\"] = df_seimas[\"isigalioja\"].combine_first(df_seimas[\"isigalioja_po_salygu\"]).isnull()\n",
    "df_seimas[\"registracijos_metai\"] = pd.to_datetime(df_seimas[\"registracija\"]).dt.year\n"
   ]
  },
  {
   "cell_type": "code",
   "execution_count": 10,
   "metadata": {},
   "outputs": [
    {
     "data": {
      "image/png": "[encoded data removed]",
      "text/plain": [
       "<Figure size 1000x600 with 1 Axes>"
      ]
     },
     "metadata": {},
     "output_type": "display_data"
    }
   ],
   "source": [
    "counts_by_year = df_seimas.groupby([\"registracijos_metai\", \"turi_isigaliojimo_data\"]).size().unstack(fill_value=0)\n",
    "ax = counts_by_year.plot(\n",
    "    kind=\"bar\",\n",
    "    stacked=True,\n",
    "    figsize=(10,6)\n",
    ")\n",
    "ax.tick_params(axis='x', labelrotation=45)\n",
    "ax.tick_params(axis='y', labelrotation=45)"
   ]
  },
  {
   "cell_type": "code",
   "execution_count": 22,
   "metadata": {},
   "outputs": [
    {
     "data": {
      "text/plain": [
       "(47, 12)"
      ]
     },
     "execution_count": 22,
     "metadata": {},
     "output_type": "execute_result"
    }
   ],
   "source": [
    "df_seimas[\n",
    "    df_seimas[\"isigalioja2\"].isnull()\n",
    "    & ~df_seimas[\"negalioja2\"].isnull()\n",
    "].shape"
   ]
  },
  {
   "cell_type": "code",
   "execution_count": null,
   "metadata": {},
   "outputs": [],
   "source": []
  }
 ],
 "metadata": {
  "kernelspec": {
   "display_name": "Python 3",
   "language": "python",
   "name": "python3"
  },
  "language_info": {
   "codemirror_mode": {
    "name": "ipython",
    "version": 3
   },
   "file_extension": ".py",
   "mimetype": "text/x-python",
   "name": "python",
   "nbconvert_exporter": "python",
   "pygments_lexer": "ipython3",
   "version": "3.12.9"
  }
 },
 "nbformat": 4,
 "nbformat_minor": 2
}
